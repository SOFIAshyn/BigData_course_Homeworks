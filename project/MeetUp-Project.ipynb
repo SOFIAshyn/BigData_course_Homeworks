{
 "cells": [
  {
   "cell_type": "markdown",
   "metadata": {},
   "source": [
    "### Import LIbs"
   ]
  },
  {
   "cell_type": "code",
   "execution_count": 166,
   "metadata": {},
   "outputs": [],
   "source": [
    "import time\n",
    "import requests\n",
    "# ! pip install kafka-python\n",
    "from kafka import KafkaProducer\n",
    "from json import dumps\n",
    "import json\n",
    "import datetime"
   ]
  },
  {
   "cell_type": "markdown",
   "metadata": {},
   "source": [
    "### First task"
   ]
  },
  {
   "cell_type": "markdown",
   "metadata": {},
   "source": [
    "Return the statistics with the number of newly created events per each country for the last 6 full hours, excluding the last hour. The report should be in a format : [{country1: number1}, {country2: number2},..]. \n",
    "\n",
    "Example of the response: \n",
    "{“time_start”: “15:00”,\n",
    "“time_end”: “21:00”,\n",
    "“statistics”: [{“US”: 1543}, {“France” : 899}, {“Germany” : 923}, ...]}.\n"
   ]
  },
  {
   "cell_type": "code",
   "execution_count": 9,
   "metadata": {
    "scrolled": true
   },
   "outputs": [],
   "source": [
    "# ! pip install datapackage"
   ]
  },
  {
   "cell_type": "code",
   "execution_count": 12,
   "metadata": {},
   "outputs": [
    {
     "name": "stdout",
     "output_type": "stream",
     "text": [
      "['validation_report', 'data_csv', 'data_json', 'country-list_zip', 'data']\n"
     ]
    }
   ],
   "source": [
    "from datapackage import Package\n",
    "\n",
    "package = Package('https://datahub.io/core/country-list/datapackage.json')\n",
    "\n",
    "# print list of all resources:\n",
    "print(package.resource_names)\n",
    "\n",
    "# print processed tabular data (if exists any)\n",
    "for resource in package.resources:\n",
    "    if resource.descriptor['datahub']['type'] == 'derived/csv':\n",
    "        countries_abreviation = resource.read()"
   ]
  },
  {
   "cell_type": "code",
   "execution_count": 20,
   "metadata": {},
   "outputs": [],
   "source": [
    "dict_countries_abreviation = {}\n",
    "for country, short in countries_abreviation:\n",
    "    dict_countries_abreviation[short.lower()] = country\n",
    "dict_countries_abreviation['gb'] = 'Great Britain'"
   ]
  },
  {
   "cell_type": "code",
   "execution_count": 21,
   "metadata": {},
   "outputs": [
    {
     "data": {
      "text/plain": [
       "('Great Britain', 'France')"
      ]
     },
     "execution_count": 21,
     "metadata": {},
     "output_type": "execute_result"
    }
   ],
   "source": [
    "dict_countries_abreviation['gb'], dict_countries_abreviation['fr']"
   ]
  },
  {
   "cell_type": "code",
   "execution_count": 23,
   "metadata": {},
   "outputs": [],
   "source": [
    "from collections import Counter"
   ]
  },
  {
   "cell_type": "code",
   "execution_count": 28,
   "metadata": {},
   "outputs": [
    {
     "data": {
      "text/plain": [
       "[{1: 1}, {2: 2}, {3: 1}]"
      ]
     },
     "execution_count": 28,
     "metadata": {},
     "output_type": "execute_result"
    }
   ],
   "source": [
    "res_l = []\n",
    "for k, v in dict(Counter([1, 2, 2, 3])).items():\n",
    "    res_l.append({k: v})\n",
    "res_l"
   ]
  },
  {
   "cell_type": "code",
   "execution_count": 97,
   "metadata": {},
   "outputs": [],
   "source": [
    "def format_date(date):\n",
    "    min_ = ('0' + str(date.minute)) if (len(str(date.minute)) < 2) else str(date.minute)\n",
    "    return str(date.hour) + ':' + min_"
   ]
  },
  {
   "cell_type": "code",
   "execution_count": 98,
   "metadata": {},
   "outputs": [
    {
     "name": "stdout",
     "output_type": "stream",
     "text": [
      "14:19\n"
     ]
    }
   ],
   "source": [
    "print(format_date(datetime.datetime.now()))"
   ]
  },
  {
   "cell_type": "markdown",
   "metadata": {},
   "source": [
    "### Task 1\n",
    "To run task 1, fill the config with the proper time for which you want a statistics and with the name of JSON file"
   ]
  },
  {
   "cell_type": "code",
   "execution_count": 99,
   "metadata": {},
   "outputs": [],
   "source": [
    "config = {\n",
    "    'minutes': 1,\n",
    "    'output': 'task1.json',\n",
    "}"
   ]
  },
  {
   "cell_type": "code",
   "execution_count": 116,
   "metadata": {
    "scrolled": true
   },
   "outputs": [
    {
     "name": "stdout",
     "output_type": "stream",
     "text": [
      "Response number:  1, Response number:  2, Response number:  3, Response number:  4, Response number:  5, Response number:  6, Response number:  7, {'time_start': '15:12', 'time_end': '15:13', 'statistics': [{'Australia': 2}, {'Germany': 1}, {'Argentina': 1}, {'Netherlands': 1}, {'United States': 1}, {'Japan': 1}]}\n"
     ]
    },
    {
     "data": {
      "text/plain": [
       "{'time_start': '15:12',\n",
       " 'time_end': '15:13',\n",
       " 'statistics': [{'Australia': 2},\n",
       "  {'Germany': 1},\n",
       "  {'Argentina': 1},\n",
       "  {'Netherlands': 1},\n",
       "  {'United States': 1},\n",
       "  {'Japan': 1}]}"
      ]
     },
     "execution_count": 116,
     "metadata": {},
     "output_type": "execute_result"
    }
   ],
   "source": [
    "meetup_url = \"http://stream.meetup.com/2/rsvps\"\n",
    "kafka_topic_name = \"task1\"\n",
    "kafka_bootstrap_servers = \"localhost:9092\"\n",
    "\n",
    "def task1():\n",
    "    start = time.time()\n",
    "    time_start = datetime.datetime.now()\n",
    "    delay = 6 * config['minutes']\n",
    "\n",
    "    try:\n",
    "        stream_api_response = requests.get(meetup_url, stream=True)\n",
    "        if stream_api_response.status_code == 200:\n",
    "            task1_res = []\n",
    "            for i, api_response_message in enumerate(stream_api_response.iter_lines()):\n",
    "                print('Response number: ', i+1, end=', ')\n",
    "                api_response_message = json.loads(api_response_message)\n",
    "                if api_response_message['group'].get('group_country', None):\n",
    "                    task1_res.append(\\\n",
    "                                     dict_countries_abreviation[api_response_message['group']['group_country']])\n",
    "\n",
    "                if (time.time() - start) >= delay:\n",
    "                    break\n",
    "\n",
    "            task1_res_l = []\n",
    "            for k, v in dict(Counter(task1_res)).items():\n",
    "                task1_res_l.append({k: v})\n",
    "            dict_res = {\n",
    "                'time_start': format_date(time_start),\n",
    "                'time_end': format_date(time_start + datetime.timedelta(minutes=config['minutes'])),\n",
    "                'statistics': task1_res_l\n",
    "            }\n",
    "#             print(dict_res)\n",
    "            f = open(config['output'], 'w+')\n",
    "            json.dump(dict_res, f, indent=2)\n",
    "            f.close()\n",
    "        \n",
    "    except Exception as ex:\n",
    "        print('NO CONNECTION')\n",
    "    return dict_res\n",
    "        \n",
    "task1()"
   ]
  },
  {
   "cell_type": "markdown",
   "metadata": {},
   "source": [
    "### Second task\n",
    "Return the statistics containing the information about which groups posted the events at each US state in the last 3 full hours, excluding the last hour. The names of the states should be full, not only the state code.\n",
    "\n",
    "Example of the response: \n",
    "{“time_start”: “15:00”,\n",
    "“time_end”: “18:00”,\n",
    "“statistics”: [{“California” : [“Happy Programmers Group”, “Emmy’s Bookclub”]}, {“Nevada”: [“Las Vegas Warriors”, “Desert Bikers”]}, ...]}\n"
   ]
  },
  {
   "cell_type": "code",
   "execution_count": 105,
   "metadata": {},
   "outputs": [],
   "source": [
    "states_constants = {\n",
    "    \"AL\": \"Alabama\",\n",
    "    \"AK\": \"Alaska\",\n",
    "    \"AS\": \"American Samoa\",\n",
    "    \"AZ\": \"Arizona\",\n",
    "    \"AR\": \"Arkansas\",\n",
    "    \"CA\": \"California\",\n",
    "    \"CO\": \"Colorado\",\n",
    "    \"CT\": \"Connecticut\",\n",
    "    \"DE\": \"Delaware\",\n",
    "    \"DC\": \"District Of Columbia\",\n",
    "    \"FM\": \"Federated States Of Micronesia\",\n",
    "    \"FL\": \"Florida\",\n",
    "    \"GA\": \"Georgia\",\n",
    "    \"GU\": \"Guam\",\n",
    "    \"HI\": \"Hawaii\",\n",
    "    \"ID\": \"Idaho\",\n",
    "    \"IL\": \"Illinois\",\n",
    "    \"IN\": \"Indiana\",\n",
    "    \"IA\": \"Iowa\",\n",
    "    \"KS\": \"Kansas\",\n",
    "    \"KY\": \"Kentucky\",\n",
    "    \"LA\": \"Louisiana\",\n",
    "    \"ME\": \"Maine\",\n",
    "    \"MH\": \"Marshall Islands\",\n",
    "    \"MD\": \"Maryland\",\n",
    "    \"MA\": \"Massachusetts\",\n",
    "    \"MI\": \"Michigan\",\n",
    "    \"MN\": \"Minnesota\",\n",
    "    \"MS\": \"Mississippi\",\n",
    "    \"MO\": \"Missouri\",\n",
    "    \"MT\": \"Montana\",\n",
    "    \"NE\": \"Nebraska\",\n",
    "    \"NV\": \"Nevada\",\n",
    "    \"NH\": \"New Hampshire\",\n",
    "    \"NJ\": \"New Jersey\",\n",
    "    \"NM\": \"New Mexico\",\n",
    "    \"NY\": \"New York\",\n",
    "    \"NC\": \"North Carolina\",\n",
    "    \"ND\": \"North Dakota\",\n",
    "    \"MP\": \"Northern Mariana Islands\",\n",
    "    \"OH\": \"Ohio\",\n",
    "    \"OK\": \"Oklahoma\",\n",
    "    \"OR\": \"Oregon\",\n",
    "    \"PW\": \"Palau\",\n",
    "    \"PA\": \"Pennsylvania\",\n",
    "    \"PR\": \"Puerto Rico\",\n",
    "    \"RI\": \"Rhode Island\",\n",
    "    \"SC\": \"South Carolina\",\n",
    "    \"SD\": \"South Dakota\",\n",
    "    \"TN\": \"Tennessee\",\n",
    "    \"TX\": \"Texas\",\n",
    "    \"UT\": \"Utah\",\n",
    "    \"VT\": \"Vermont\",\n",
    "    \"VI\": \"Virgin Islands\",\n",
    "    \"VA\": \"Virginia\",\n",
    "    \"WA\": \"Washington\",\n",
    "    \"WV\": \"West Virginia\",\n",
    "    \"WI\": \"Wisconsin\",\n",
    "    \"WY\": \"Wyoming\"\n",
    "}"
   ]
  },
  {
   "cell_type": "code",
   "execution_count": 103,
   "metadata": {},
   "outputs": [],
   "source": [
    "config = {\n",
    "    'minutes': 1,\n",
    "    'output': 'task2.json',\n",
    "}"
   ]
  },
  {
   "cell_type": "code",
   "execution_count": 109,
   "metadata": {
    "scrolled": true
   },
   "outputs": [
    {
     "name": "stdout",
     "output_type": "stream",
     "text": [
      "Response number:  1, Response number:  2, Response number:  3, Response number:  4, Response number:  5, Response number:  6, Response number:  7, Response number:  8, Response number:  9, Response number:  10, Response number:  11, Response number:  12, Response number:  13, Response number:  14, Response number:  15, Response number:  16, Response number:  17, Response number:  18, Response number:  19, Response number:  20, Response number:  21, Response number:  22, Response number:  23, Response number:  24, Response number:  25, Response number:  26, Response number:  27, Response number:  28, Response number:  29, Response number:  30, Response number:  31, Response number:  32, Response number:  33, Response number:  34, Response number:  35, Response number:  36, Response number:  37, Response number:  38, Response number:  39, Response number:  40, Response number:  41, Response number:  42, Response number:  43, Response number:  44, Response number:  45, Response number:  46, Response number:  47, Response number:  48, Response number:  49, Response number:  50, Response number:  51, Response number:  52, Response number:  53, Response number:  54, Response number:  55, Response number:  56, Response number:  57, Response number:  58, Response number:  59, Response number:  60, Response number:  61, Response number:  62, Response number:  63, {'time_start': '14:37', 'time_end': '14:38', 'statistics': [{'Pennsylvania': ['Social Networking', 'Social', 'Single Professionals', 'Singles', 'Travel', 'Dancing', 'Dating and Relationships', 'Weekend Getaways', 'Single Parents', 'Cruises']}, {'Oregon': ['Philosophy', 'Intellectual Discussion', 'Critical Thinking', 'Lectures', 'Philosophy Discussions', 'Debate']}, {'Massachusetts': ['German Language', 'Expat German', 'Language & Culture', 'German Culture', 'Language Exchange', 'Language Learning', 'German Conversation', 'Deutsch', 'Learning Language', 'German Expats', 'language tandem', 'German Language', 'Expat German', 'Language & Culture', 'German Culture', 'Language Exchange', 'Language Learning', 'German Conversation', 'Deutsch', 'Learning Language', 'German Expats', 'language tandem', 'Business Intelligence', 'Big Data', 'Machine Learning', 'Data Analytics', 'Data Visualization', 'Predictive Analytics', 'Data Mining', 'APIs', 'DevOps', 'Data Science', 'Big Data Analytics', 'Enterprise Application Integration', 'API documentation', 'German Language', 'Expat German', 'Language & Culture', 'German Culture', 'Language Exchange', 'Language Learning', 'German Conversation', 'Deutsch', 'Learning Language', 'German Expats', 'language tandem']}, {'New York': ['Machine Learning', 'BioInformatics', 'Psychology', 'Medical Imaging', 'Artificial Intelligence Machine Learning Robotics', 'Education & Technology', 'Life Sciences', 'Cognitive Science', 'Biotechnology', 'Brain', 'Cognitive-neuro-biology', 'Cognitive Neuroscience', 'Applied Cognitive Science', 'Near Infrared Spectroscopy', 'brain-computer interface']}, {'Florida': ['Powerful Women', \"Women's Business Networking\", 'Business Referral Networking', 'Professional Networking', \"Women's Networking\", 'Women Small Business Owners', 'Executive Coaching', 'Small Business', 'Professional Women', 'Social', \"Women's Social\", 'Self-Improvement', 'Small Business Marketing Strategy', 'Personal Growth and MBTI', 'Self-Improvement', 'Social Networking', 'Professional', 'Wine', \"Women's Social\", 'Crafts', 'Weekend Adventures', 'Outdoor Adventures', 'Spiritual Growth', \"Women's Empowerment\", 'Self Exploration', 'Creativity', 'Knowledge Sharing', 'Cocktails & Dining']}, {'Illinois': ['Property Management', 'Property Developing', 'Making Money with Rental Property', 'Hospitality & Tourism', 'vacation rental properties', 'Short Term Rental Income', 'Airbnb', 'Airbnb Host', 'Environmental Awareness', 'Green Living', 'Vegetarian', 'Weight Loss', 'Sustainability', 'Wellness', 'Vegan Potlucks and Dineouts', 'Healthy Living', 'Environment', 'Animal Welfare', 'Vegan', 'Whole Food Nutrition', 'Nutrition', 'Environmental Activism', 'Plant-Based Nutrition']}, {'District Of Columbia': ['Real Estate Investing Meetings', 'Beginner Real Estate Investing', 'First Time Real Estate Investing', 'Real Estate Investment Education', 'Startup Businesses', 'Entrepreneurship', 'Real Estate', 'Business Strategy', 'Real Estate Investing', 'Real Estate Investors', 'Real Estate Foreclosures', 'Real Estate Networking', 'Investing', 'Cashflow', 'Wholesale', 'Real Estate Investing Meetings', 'Beginner Real Estate Investing', 'First Time Real Estate Investing', 'Real Estate Investment Education', 'Startup Businesses', 'Entrepreneurship', 'Real Estate', 'Business Strategy', 'Real Estate Investing', 'Real Estate Investors', 'Real Estate Foreclosures', 'Real Estate Networking', 'Investing', 'Cashflow', 'Wholesale']}, {'South Carolina': ['Consciousness', 'Meditation', 'Self-Improvement', 'Life Transformation', 'Wellness', 'Holistic Health', 'Stress Relief', 'Spiritual Growth', 'Healthy Living', 'Self Exploration', 'Self-Empowerment']}, {'Arizona': ['Fitness', 'Bicycling', 'Outdoors', 'Exercise', 'Road Cycling', 'Cycling']}, {'Georgia': ['Spades', 'Spades League', 'Playing Cards', 'Spade Players', 'Spade Games', 'Cards', 'Game Night', 'Games', 'Card Games', 'Regular Spades', 'Local Spades', 'Spades players']}, {'Virginia': ['Book Club']}, {'New Jersey': ['Live Music', 'Social', 'Music', 'Outdoors', 'Fun Times', \"Singles 30's-50's\", 'Concerts', 'Eating, Drinking, Talking, Laughing, Etc', 'Exploring New Restaurants', 'Recreational Sports', 'Coffee', 'Dining Out', 'Hiking and Bike Riding']}, {'North Carolina': ['Mountains', 'Backpacking', 'Outdoor Adventures', 'Adventure', 'Fun Times', 'Outdoors', 'Social', 'Camping', 'Hiking', 'Fitness', 'Walking', 'New In Town', 'Rock Climbing', 'Travel', 'Mountaineering']}]}\n"
     ]
    }
   ],
   "source": [
    "meetup_url = \"http://stream.meetup.com/2/rsvps\"\n",
    "kafka_topic_name = \"task2\"\n",
    "\n",
    "start = time.time()\n",
    "time_start = datetime.datetime.now()\n",
    "delay = 60 * config['minutes']\n",
    "\n",
    "try:\n",
    "    stream_api_response = requests.get(meetup_url, stream=True)\n",
    "    if stream_api_response.status_code == 200:\n",
    "        countries_dict = {}\n",
    "        for i, api_response_message in enumerate(stream_api_response.iter_lines()):\n",
    "            print('Response number: ', i+1, end=', ')\n",
    "            api_response_message = json.loads(api_response_message)\n",
    "            if api_response_message['group']['group_country'] == 'us' and api_response_message['group'].get('group_state', None):\n",
    "                state_name = states_constants[api_response_message['group']['group_state']]\n",
    "                if countries_dict.get(state_name, None) is None:\n",
    "                    countries_dict[state_name] = []\n",
    "                countries_dict[state_name] += [d['topic_name'] for d in api_response_message['group']['group_topics']]\n",
    "            \n",
    "            if (time.time() - start) >= delay:\n",
    "                break\n",
    "        \n",
    "        task1_res_l = []\n",
    "        for k, v in dict(Counter(countries_dict)).items():\n",
    "            task1_res_l.append({k: list(set(v))})\n",
    "        dict_res = {\n",
    "            'time_start': format_date(time_start),\n",
    "            'time_end': format_date(time_start + datetime.timedelta(minutes=config['minutes'])),\n",
    "            'statistics': task1_res_l\n",
    "        }\n",
    "#         print(dict_res)\n",
    "        f = open(config['output'], 'w+')\n",
    "        json.dump(dict_res, f, indent=2)\n",
    "        f.close()\n",
    "\n",
    "except Exception as ex:\n",
    "    print('NO CONNECTION')\n"
   ]
  },
  {
   "cell_type": "markdown",
   "metadata": {},
   "source": [
    "### Third task\n",
    "The most popular topic of the events for each country posted in the last 6 hours, excluding the last hour. The popularity is calculated based on the number of occurrences the topic has amongst all the topics in all the events created in that country during the specified period. \n",
    "\n",
    "Example of the response: \n",
    "{“time_start”: “15:00”,\n",
    "“time_end”: “21:00”,\n",
    "“statistics”: [{“France” : {“Baking croissants”: 88}}, {“Germany”: {“Brewing beer”: 71}, ...]}"
   ]
  },
  {
   "cell_type": "code",
   "execution_count": 113,
   "metadata": {},
   "outputs": [],
   "source": [
    "config = {\n",
    "    'minutes': 1,\n",
    "    'output': 'task3.json',\n",
    "}"
   ]
  },
  {
   "cell_type": "code",
   "execution_count": 114,
   "metadata": {},
   "outputs": [
    {
     "name": "stdout",
     "output_type": "stream",
     "text": [
      "Response number:  1, Response number:  2, Response number:  3, Response number:  4, Response number:  5, Response number:  6, Response number:  7, Response number:  8, Response number:  9, Response number:  10, Response number:  11, Response number:  12, Response number:  13, Response number:  14, Response number:  15, Response number:  16, Response number:  17, Response number:  18, Response number:  19, Response number:  20, Response number:  21, Response number:  22, Response number:  23, Response number:  24, Response number:  25, Response number:  26, Response number:  27, Response number:  28, Response number:  29, Response number:  30, Response number:  31, Response number:  32, Response number:  33, Response number:  34, Response number:  35, Response number:  36, Response number:  37, Response number:  38, Response number:  39, Response number:  40, Response number:  41, Response number:  42, Response number:  43, Response number:  44, Response number:  45, Response number:  46, Response number:  47, Response number:  48, Response number:  49, Response number:  50, Response number:  51, "
     ]
    }
   ],
   "source": [
    "import operator\n",
    "\n",
    "meetup_url = \"http://stream.meetup.com/2/rsvps\"\n",
    "kafka_topic_name = \"task3\"\n",
    "\n",
    "start = time.time()\n",
    "time_start = datetime.datetime.now()\n",
    "delay = 60 * config['minutes']\n",
    "\n",
    "try:\n",
    "    stream_api_response = requests.get(meetup_url, stream=True)\n",
    "    if stream_api_response.status_code == 200:\n",
    "        countries_dict = {}\n",
    "        for i, api_response_message in enumerate(stream_api_response.iter_lines()):\n",
    "            print('Response number: ', i+1, end=', ')\n",
    "            api_response_message = json.loads(api_response_message)\n",
    "            if api_response_message['group']['group_country'] == 'us' and \\\n",
    "            api_response_message['group'].get('group_state', None):\n",
    "                state_name = states_constants[api_response_message['group']['group_state']]\n",
    "                if countries_dict.get(state_name, None) is None:\n",
    "                    countries_dict[state_name] = []\n",
    "                countries_dict[state_name] += [d['topic_name'] \\\n",
    "                                               for d in api_response_message['group']['group_topics']]\n",
    "            \n",
    "            if (time.time() - start) >= delay:\n",
    "                break\n",
    "        \n",
    "        task1_res_l = []\n",
    "        for k, v in dict(Counter(countries_dict)).items():\n",
    "            v = dict(Counter(v))\n",
    "            max_topic_value = max(v.items(), key=operator.itemgetter(1))\n",
    "            v = {max_topic_value[0]: max_topic_value[1]}\n",
    "            task1_res_l.append({k: v})\n",
    "        dict_res = {\n",
    "            'time_start': format_date(time_start),\n",
    "            'time_end': format_date(time_start + datetime.timedelta(minutes=config['minutes'])),\n",
    "            'statistics': task1_res_l\n",
    "        }\n",
    "\n",
    "        f = open(config['output'], 'w+')\n",
    "        json.dump(dict_res, f, indent=2)\n",
    "        f.close()\n",
    "\n",
    "except Exception as ex:\n",
    "    print('NO CONNECTION')\n"
   ]
  },
  {
   "cell_type": "markdown",
   "metadata": {},
   "source": [
    "### Ad-hoc Query 1\n",
    "Return the list of all the countries for which the events were created."
   ]
  },
  {
   "cell_type": "code",
   "execution_count": 131,
   "metadata": {},
   "outputs": [],
   "source": [
    "config = {\n",
    "    'output': 'ad_hoc_task1.json'\n",
    "}"
   ]
  },
  {
   "cell_type": "code",
   "execution_count": 132,
   "metadata": {},
   "outputs": [
    {
     "data": {
      "text/plain": [
       "['Australia', 'Germany', 'Argentina', 'Netherlands', 'United States', 'Japan']"
      ]
     },
     "execution_count": 132,
     "metadata": {},
     "output_type": "execute_result"
    }
   ],
   "source": [
    "def ad_hoc_task1():\n",
    "    result1 = task1()\n",
    "# Example of result1 data:\n",
    "#     result1 = {'time_start': '15:12', 'time_end': '15:13', 'statistics': \\\n",
    "#                [{'Australia': 2}, {'Germany': 1}, {'Argentina': 1}, {'Netherlands': 1}, \\\n",
    "#                 {'United States': 1}, {'Japan': 1}]}\n",
    "    return list(map(lambda el: list(el.keys())[0], result1['statistics']))\n",
    "\n",
    "ad_hoc_res = ad_hoc_task1()\n",
    "ad_hoc_res"
   ]
  },
  {
   "cell_type": "code",
   "execution_count": 133,
   "metadata": {},
   "outputs": [],
   "source": [
    "f = open(config['output'], 'w+')\n",
    "json.dump(ad_hoc_res, f, indent=2)\n",
    "f.close()"
   ]
  },
  {
   "cell_type": "markdown",
   "metadata": {},
   "source": [
    "### Ad-hoc Query 2\n",
    "Return the list of the cities for the specified country where at least one event was created."
   ]
  },
  {
   "cell_type": "code",
   "execution_count": 151,
   "metadata": {},
   "outputs": [],
   "source": [
    "config = {\n",
    "    'country': 'Great Britain',\n",
    "    'minutes': 1,\n",
    "    'output': 'ad_hoc_task2.json'\n",
    "}"
   ]
  },
  {
   "cell_type": "code",
   "execution_count": 153,
   "metadata": {},
   "outputs": [
    {
     "name": "stdout",
     "output_type": "stream",
     "text": [
      "AFTER WHILE\n"
     ]
    }
   ],
   "source": [
    "meetup_url = \"http://stream.meetup.com/2/rsvps\"\n",
    "kafka_topic_name = \"ad_hoc_task2\"\n",
    "# kafka_bootstrap_servers = \"localhost:9092\"\n",
    "\n",
    "\n",
    "start = time.time()\n",
    "time_start = datetime.datetime.now()\n",
    "delay = 60 * config['minutes']\n",
    "\n",
    "try:\n",
    "    stream_api_response = requests.get(meetup_url, stream=True)\n",
    "    if stream_api_response.status_code == 200:\n",
    "        cities_l = []\n",
    "        for api_response_message in stream_api_response.iter_lines():\n",
    "            api_response_message = json.loads(api_response_message)\n",
    "            if api_response_message['group'].get('group_country', None):\n",
    "                if dict_countries_abreviation[api_response_message['group']['group_country']] == config['country']:\n",
    "                    cities_l.append(api_response_message['group']['group_city'])\n",
    "#                     time.sleep(1)\n",
    "            if (time.time() - start) >= delay:\n",
    "                break\n",
    "        cities_l = list(set(cities_l))\n",
    "            \n",
    "\n",
    "except Exception as ex:\n",
    "    print('NO CONNECTION')\n",
    "\n",
    "print(\"AFTER WHILE\")\n"
   ]
  },
  {
   "cell_type": "code",
   "execution_count": 154,
   "metadata": {},
   "outputs": [],
   "source": [
    "f = open(config['output'], 'w+')\n",
    "json.dump(cities_l, f, indent=2)\n",
    "f.close()"
   ]
  },
  {
   "cell_type": "markdown",
   "metadata": {},
   "source": [
    "### Ad-hoc Query 3\n",
    "Given the event id, return the following details:\n",
    "- event name\n",
    "- event time\n",
    "- the list of the topics\n",
    "- the group name\n",
    "- the city and the country of the event"
   ]
  },
  {
   "cell_type": "code",
   "execution_count": 167,
   "metadata": {},
   "outputs": [],
   "source": [
    "config = {\n",
    "    'event_id': '279038557',\n",
    "    'minutes': 10,\n",
    "    'output': 'ad_hoc_task3.json'\n",
    "}"
   ]
  },
  {
   "cell_type": "code",
   "execution_count": 248,
   "metadata": {},
   "outputs": [
    {
     "name": "stdout",
     "output_type": "stream",
     "text": [
      "We are here...\n",
      "{'event_id': ('shvzwrycckbrb',), 'event_name': ('Analyzing the unanswered questions of the universe. ',), 'event_time': 'Fri Oct 10 11:00:00 53502', 'topics': (['Catholic', 'Catholic Friends', 'Catholic Bible Study', 'Catholic Fellowship', 'Catholic Social Networking', 'Catholic Social', 'Bible', 'Catholic Spirtuality', 'Bible Study', 'The Bible Timeline Study Group', 'Catholic Bible Study Group'],), 'group_name': ('Northern Virginia Catholic Bible Study Meetup',), 'city': ('Annandale',), 'country': 'United States'}\n",
      "AFTER WHILE\n"
     ]
    }
   ],
   "source": [
    "meetup_url = \"http://stream.meetup.com/2/rsvps\"\n",
    "kafka_topic_name = \"ad_hoc_task3\"\n",
    "# kafka_bootstrap_servers = \"localhost:9092\"\n",
    "\n",
    "start = time.time()\n",
    "time_start = datetime.datetime.now()\n",
    "delay = 60 * config['minutes']\n",
    "res_d = {}\n",
    "\n",
    "try:\n",
    "    print('We are here...')\n",
    "    stream_api_response = requests.get(meetup_url, stream=True)\n",
    "\n",
    "    if stream_api_response.status_code == 200:\n",
    "        for api_response_message in stream_api_response.iter_lines():\n",
    "            api_response_message = json.loads(api_response_message)\n",
    "#             event_id = config[\"event_id\"]\n",
    "            event_id = api_response_message[\"event\"][\"event_id\"]\n",
    "            \n",
    "            if api_response_message[\"event\"]['event_id'] == event_id:\n",
    "                res_d['event_id'] = api_response_message['event']['event_id'],\n",
    "                res_d['event_name'] = (api_response_message['event']['event_name']),\n",
    "                time_ = api_response_message[\"event\"][\"time\"]\n",
    "                res_d['event_time'] = time.ctime(time_)\n",
    "                res_d['topics'] = [el['topic_name'] for el in api_response_message['group']['group_topics']],\n",
    "                res_d['group_name'] = api_response_message[\"group\"][\"group_name\"],\n",
    "                res_d['city'] = (api_response_message[\"group\"][\"group_city\"]),\n",
    "                res_d['country'] = dict_countries_abreviation[api_response_message[\"group\"][\"group_country\"]]\n",
    "                print(res_d)\n",
    "                break\n",
    "\n",
    "            if (time.time() - start) >= delay:\n",
    "                break\n",
    "            \n",
    "except Exception as ex:\n",
    "    print()\n",
    "#     print('NO CONNECTION')\n",
    "\n",
    "print(\"AFTER WHILE\")\n"
   ]
  },
  {
   "cell_type": "code",
   "execution_count": 238,
   "metadata": {},
   "outputs": [],
   "source": [
    "f = open(config['output'], 'w+')\n",
    "json.dump(res_d, f, indent=2)\n",
    "f.close()"
   ]
  },
  {
   "cell_type": "code",
   "execution_count": 239,
   "metadata": {},
   "outputs": [
    {
     "data": {
      "text/plain": [
       "{'event_id': ('plsqhsyccjbgc',),\n",
       " 'event_name': (\"Let's go out for a drink or two !! - We are back!\",),\n",
       " 'event_time': 'Fri Jan 25 10:00:00 53450',\n",
       " 'topics': (['Fun Times',\n",
       "   'Social Networking',\n",
       "   'Nightlife',\n",
       "   'New In Town',\n",
       "   'International and Exchange Students',\n",
       "   'Expat',\n",
       "   'International Professionals',\n",
       "   'Expat Foreigner',\n",
       "   'Cultural Activities',\n",
       "   'Foreign',\n",
       "   'International Friends',\n",
       "   'Singles',\n",
       "   'Fun and Laughter',\n",
       "   'Culture Exchange',\n",
       "   'Language & Culture'],),\n",
       " 'group_name': ('Antwerp Expats',),\n",
       " 'city': ('Antwerpen',),\n",
       " 'country': 'Belgium'}"
      ]
     },
     "execution_count": 239,
     "metadata": {},
     "output_type": "execute_result"
    }
   ],
   "source": [
    "res_d"
   ]
  },
  {
   "cell_type": "markdown",
   "metadata": {},
   "source": [
    "### Ad-hoc Query 4\n",
    "Return the list of the groups which have created events in the specified city. It should contain the following details:\n",
    "- City name\n",
    "- Group name\n",
    "- Group id"
   ]
  },
  {
   "cell_type": "code",
   "execution_count": 244,
   "metadata": {},
   "outputs": [],
   "source": [
    "config = {\n",
    "    'city': 'London',\n",
    "    'minutes': 1,\n",
    "    'output': 'ad_hoc_task4.json'\n",
    "}"
   ]
  },
  {
   "cell_type": "code",
   "execution_count": 245,
   "metadata": {},
   "outputs": [
    {
     "name": "stdout",
     "output_type": "stream",
     "text": [
      "We are here...\n",
      "AFTER WHILE\n"
     ]
    }
   ],
   "source": [
    "meetup_url = \"http://stream.meetup.com/2/rsvps\"\n",
    "kafka_topic_name = \"ad_hoc_task3\"\n",
    "# kafka_bootstrap_servers = \"localhost:9092\"\n",
    "\n",
    "start = time.time()\n",
    "time_start = datetime.datetime.now()\n",
    "delay = 60 * config['minutes']\n",
    "res_l = []\n",
    "\n",
    "try:\n",
    "    print('We are here...')\n",
    "    stream_api_response = requests.get(meetup_url, stream=True)\n",
    "\n",
    "    if stream_api_response.status_code == 200:\n",
    "        for api_response_message in stream_api_response.iter_lines():\n",
    "            api_response_message = json.loads(api_response_message)\n",
    "            group_city = api_response_message[\"group\"][\"group_city\"]\n",
    "            \n",
    "            if api_response_message[\"group\"]['group_city'] == group_city:\n",
    "                res_d = {}\n",
    "                res_d['city'] = api_response_message[\"group\"]['group_city'],    \n",
    "                res_d['group_name'] = api_response_message[\"group\"][\"group_name\"],\n",
    "                res_d['group_id'] = (api_response_message[\"group\"][\"group_id\"]),\n",
    "                res_l.append(res_d)\n",
    "\n",
    "            if (time.time() - start) >= delay:\n",
    "                break\n",
    "            \n",
    "except Exception as ex:\n",
    "    print()\n",
    "#     print('NO CONNECTION')\n",
    "\n",
    "print(\"AFTER WHILE\")\n"
   ]
  },
  {
   "cell_type": "code",
   "execution_count": 246,
   "metadata": {},
   "outputs": [],
   "source": [
    "f = open(config['output'], 'w+')\n",
    "json.dump(res_l, f, indent=2)\n",
    "f.close()"
   ]
  },
  {
   "cell_type": "markdown",
   "metadata": {},
   "source": [
    "### Ad-hoc Query 5\n",
    "Return all the events that were created by the specified group (group id will be the input parameter). Each event in the list should have the format as in the API #3.\n"
   ]
  },
  {
   "cell_type": "code",
   "execution_count": 250,
   "metadata": {},
   "outputs": [],
   "source": [
    "config = {\n",
    "    'group_id': '31892462',\n",
    "    'minutes': 1,\n",
    "    'output': 'ad_hoc_task5.json'\n",
    "}"
   ]
  },
  {
   "cell_type": "code",
   "execution_count": 253,
   "metadata": {},
   "outputs": [
    {
     "name": "stdout",
     "output_type": "stream",
     "text": [
      "We are here...\n",
      "AFTER WHILE\n"
     ]
    }
   ],
   "source": [
    "meetup_url = \"http://stream.meetup.com/2/rsvps\"\n",
    "kafka_topic_name = \"ad_hoc_task3\"\n",
    "# kafka_bootstrap_servers = \"localhost:9092\"\n",
    "\n",
    "start = time.time()\n",
    "time_start = datetime.datetime.now()\n",
    "delay = 60 * config['minutes']\n",
    "res_d = {}\n",
    "\n",
    "try:\n",
    "    print('We are here...')\n",
    "    stream_api_response = requests.get(meetup_url, stream=True)\n",
    "    res_l = []\n",
    "    if stream_api_response.status_code == 200:\n",
    "        i = 0\n",
    "        for api_response_message in stream_api_response.iter_lines():\n",
    "            api_response_message = json.loads(api_response_message)\n",
    "#             group_id = config['group_id']\n",
    "            if i ==0:\n",
    "                group_id = api_response_message[\"group\"][\"group_id\"]\n",
    "            \n",
    "            if api_response_message[\"group\"][\"group_id\"] == group_id:\n",
    "                res_d = {}\n",
    "                res_d['event_id'] = api_response_message['event']['event_id'],\n",
    "                res_d['event_name'] = (api_response_message['event']['event_name']),\n",
    "                time_ = api_response_message[\"event\"][\"time\"]\n",
    "                res_d['event_time'] = time.ctime(time_)\n",
    "                res_d['topics'] = [el['topic_name'] for el in api_response_message['group']['group_topics']],\n",
    "                res_d['group_name'] = api_response_message[\"group\"][\"group_name\"],\n",
    "                res_d['city'] = (api_response_message[\"group\"][\"group_city\"]),\n",
    "                res_d['country'] = dict_countries_abreviation[api_response_message[\"group\"][\"group_country\"]]\n",
    "                res_l.append(res_d)\n",
    "                i += 1\n",
    "            if (time.time() - start) >= delay:\n",
    "                break\n",
    "            \n",
    "except Exception as ex:\n",
    "    print()\n",
    "#     print('NO CONNECTION')\n",
    "\n",
    "print(\"AFTER WHILE\")\n"
   ]
  },
  {
   "cell_type": "code",
   "execution_count": 254,
   "metadata": {},
   "outputs": [],
   "source": [
    "f = open(config['output'], 'w+')\n",
    "json.dump(res_l, f, indent=2)\n",
    "f.close()"
   ]
  },
  {
   "cell_type": "code",
   "execution_count": null,
   "metadata": {},
   "outputs": [],
   "source": []
  },
  {
   "cell_type": "code",
   "execution_count": null,
   "metadata": {},
   "outputs": [],
   "source": []
  },
  {
   "cell_type": "code",
   "execution_count": null,
   "metadata": {},
   "outputs": [],
   "source": []
  },
  {
   "cell_type": "code",
   "execution_count": null,
   "metadata": {},
   "outputs": [],
   "source": []
  },
  {
   "cell_type": "code",
   "execution_count": null,
   "metadata": {},
   "outputs": [],
   "source": []
  },
  {
   "cell_type": "code",
   "execution_count": null,
   "metadata": {},
   "outputs": [],
   "source": []
  },
  {
   "cell_type": "code",
   "execution_count": null,
   "metadata": {},
   "outputs": [],
   "source": []
  },
  {
   "cell_type": "code",
   "execution_count": null,
   "metadata": {},
   "outputs": [],
   "source": []
  },
  {
   "cell_type": "code",
   "execution_count": null,
   "metadata": {},
   "outputs": [],
   "source": []
  },
  {
   "cell_type": "code",
   "execution_count": null,
   "metadata": {},
   "outputs": [],
   "source": []
  }
 ],
 "metadata": {
  "kernelspec": {
   "display_name": "Python 3",
   "language": "python",
   "name": "python3"
  },
  "language_info": {
   "codemirror_mode": {
    "name": "ipython",
    "version": 3
   },
   "file_extension": ".py",
   "mimetype": "text/x-python",
   "name": "python",
   "nbconvert_exporter": "python",
   "pygments_lexer": "ipython3",
   "version": "3.8.5"
  }
 },
 "nbformat": 4,
 "nbformat_minor": 4
}
